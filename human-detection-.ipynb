{
 "cells": [
  {
   "cell_type": "code",
   "execution_count": 3,
   "metadata": {},
   "outputs": [],
   "source": [
    "import cv2\n",
    "import numpy as np\n",
    "import random\n",
    "import os\n",
    "from PIL import Image\n",
    "import time\n",
    "import smtplib\n",
    "import os\n"
   ]
  },
  {
   "cell_type": "code",
   "execution_count": 4,
   "metadata": {},
   "outputs": [
    {
     "name": "stdout",
     "output_type": "stream",
     "text": [
      "Output layers ['yolo_82', 'yolo_94', 'yolo_106']\n"
     ]
    },
    {
     "ename": "UnicodeEncodeError",
     "evalue": "'ascii' codec can't encode characters in position 38-41: ordinal not in range(128)",
     "output_type": "error",
     "traceback": [
      "\u001b[1;31m---------------------------------------------------------------------------\u001b[0m",
      "\u001b[1;31mUnicodeEncodeError\u001b[0m                        Traceback (most recent call last)",
      "\u001b[1;32md:\\Human Detection and Email automation\\human-detection-Copy1.ipynb Cell 2\u001b[0m in \u001b[0;36m<module>\u001b[1;34m\u001b[0m\n\u001b[0;32m     <a href='vscode-notebook-cell:/d%3A/Human%20Detection%20and%20Email%20automation/human-detection-Copy1.ipynb#W1sZmlsZQ%3D%3D?line=74'>75</a>\u001b[0m         connection\u001b[39m.\u001b[39mstarttls()\n\u001b[0;32m     <a href='vscode-notebook-cell:/d%3A/Human%20Detection%20and%20Email%20automation/human-detection-Copy1.ipynb#W1sZmlsZQ%3D%3D?line=75'>76</a>\u001b[0m         connection\u001b[39m.\u001b[39mlogin(user\u001b[39m=\u001b[39mmy_email, password\u001b[39m=\u001b[39mmy_pass)\n\u001b[1;32m---> <a href='vscode-notebook-cell:/d%3A/Human%20Detection%20and%20Email%20automation/human-detection-Copy1.ipynb#W1sZmlsZQ%3D%3D?line=76'>77</a>\u001b[0m         connection\u001b[39m.\u001b[39;49msendmail(from_addr\u001b[39m=\u001b[39;49mmy_email,\n\u001b[0;32m     <a href='vscode-notebook-cell:/d%3A/Human%20Detection%20and%20Email%20automation/human-detection-Copy1.ipynb#W1sZmlsZQ%3D%3D?line=77'>78</a>\u001b[0m                 to_addrs\u001b[39m=\u001b[39;49m\u001b[39m\"\u001b[39;49m\u001b[39mkashishramnani337@gmail.com\u001b[39;49m\u001b[39m\"\u001b[39;49m,\n\u001b[0;32m     <a href='vscode-notebook-cell:/d%3A/Human%20Detection%20and%20Email%20automation/human-detection-Copy1.ipynb#W1sZmlsZQ%3D%3D?line=78'>79</a>\u001b[0m                 msg\u001b[39m=\u001b[39;49m\u001b[39m\"\u001b[39;49m\u001b[39mSubject: Person alert!!!!!!\u001b[39;49m\u001b[39m\\n\u001b[39;49;00m\u001b[39m\\n\u001b[39;49;00m\u001b[39mHuman .🙋‍♂️ detected and\u001b[39;49m\u001b[39m\"\u001b[39;49m \n\u001b[0;32m     <a href='vscode-notebook-cell:/d%3A/Human%20Detection%20and%20Email%20automation/human-detection-Copy1.ipynb#W1sZmlsZQ%3D%3D?line=79'>80</a>\u001b[0m                 \u001b[39m\"\u001b[39;49m\u001b[39m look at console for mail confirmation!!!!!\u001b[39;49m\u001b[39m\"\u001b[39;49m)\n\u001b[0;32m     <a href='vscode-notebook-cell:/d%3A/Human%20Detection%20and%20Email%20automation/human-detection-Copy1.ipynb#W1sZmlsZQ%3D%3D?line=80'>81</a>\u001b[0m         \u001b[39mprint\u001b[39m(\u001b[39m\"\u001b[39m\u001b[39mMail has been sent successfully!\u001b[39m\u001b[39m\"\u001b[39m)  \n\u001b[0;32m     <a href='vscode-notebook-cell:/d%3A/Human%20Detection%20and%20Email%20automation/human-detection-Copy1.ipynb#W1sZmlsZQ%3D%3D?line=82'>83</a>\u001b[0m count \u001b[39m=\u001b[39m count\u001b[39m+\u001b[39m\u001b[39m1\u001b[39m \n",
      "File \u001b[1;32mc:\\Users\\Ayaz Lakho\\AppData\\Local\\Programs\\Python\\Python310\\lib\\smtplib.py:875\u001b[0m, in \u001b[0;36mSMTP.sendmail\u001b[1;34m(self, from_addr, to_addrs, msg, mail_options, rcpt_options)\u001b[0m\n\u001b[0;32m    873\u001b[0m esmtp_opts \u001b[39m=\u001b[39m []\n\u001b[0;32m    874\u001b[0m \u001b[39mif\u001b[39;00m \u001b[39misinstance\u001b[39m(msg, \u001b[39mstr\u001b[39m):\n\u001b[1;32m--> 875\u001b[0m     msg \u001b[39m=\u001b[39m _fix_eols(msg)\u001b[39m.\u001b[39;49mencode(\u001b[39m'\u001b[39;49m\u001b[39mascii\u001b[39;49m\u001b[39m'\u001b[39;49m)\n\u001b[0;32m    876\u001b[0m \u001b[39mif\u001b[39;00m \u001b[39mself\u001b[39m\u001b[39m.\u001b[39mdoes_esmtp:\n\u001b[0;32m    877\u001b[0m     \u001b[39mif\u001b[39;00m \u001b[39mself\u001b[39m\u001b[39m.\u001b[39mhas_extn(\u001b[39m'\u001b[39m\u001b[39msize\u001b[39m\u001b[39m'\u001b[39m):\n",
      "\u001b[1;31mUnicodeEncodeError\u001b[0m: 'ascii' codec can't encode characters in position 38-41: ordinal not in range(128)"
     ]
    }
   ],
   "source": [
    "\n",
    "net = cv2.dnn.readNet(\"yolov3.weights\", \"yolov3.cfg\")\n",
    "net.setPreferableBackend(cv2.dnn.DNN_BACKEND_CUDA)\n",
    "net.setPreferableTarget(cv2.dnn.DNN_TARGET_CUDA)\n",
    "distance_thres = 50\n",
    "\n",
    "count = 0\n",
    "\n",
    "\n",
    "cap = cv2.VideoCapture(0)\n",
    "def dist(pt1,pt2):\n",
    "    try:\n",
    "        return ((pt1[0]-pt2[0])**2 + (pt1[1]-pt2[1])**2)**0.5\n",
    "    except:\n",
    "        return\n",
    "layer_names = net.getLayerNames()\n",
    "output_layers = [layer_names[i - 1] for i in net.getUnconnectedOutLayers()]\n",
    "print('Output layers',output_layers)\n",
    "_,frame = cap.read()\n",
    "fourcc = cv2.VideoWriter_fourcc(*\"MJPG\")\n",
    "writer = cv2.VideoWriter('output.avi', fourcc, 30,(frame.shape[1], frame.shape[0]), True)\n",
    "ret = True\n",
    "while ret:\n",
    "    ret, img = cap.read()\n",
    "    if ret:\n",
    "        height, width = img.shape[:2]\n",
    "        blob = cv2.dnn.blobFromImage(img, 0.00392, (416, 416), (0, 0, 0), True, crop=False)\n",
    "        net.setInput(blob)\n",
    "        outs = net.forward(output_layers)\n",
    "        confidences = []\n",
    "        boxes = []\n",
    "        \n",
    "        for out in outs:\n",
    "            for detection in out:\n",
    "                scores = detection[5:]\n",
    "                class_id = np.argmax(scores)\n",
    "                if class_id!=0:\n",
    "                    continue\n",
    "                confidence = scores[class_id]\n",
    "                if confidence > 0.3:\n",
    "                    center_x = int(detection[0] * width)\n",
    "                    center_y = int(detection[1] * height)\n",
    "                    w = int(detection[2] * width)\n",
    "                    h = int(detection[3] * height)\n",
    "                    x = int(center_x - w / 2)\n",
    "                    y = int(center_y - h / 2)\n",
    "                    boxes.append([x, y, w, h])\n",
    "                    confidences.append(float(confidence))\n",
    "        indexes = cv2.dnn.NMSBoxes(boxes, confidences, 0.5, 0.4)\n",
    "        persons = []\n",
    "        person_centres = []\n",
    "        violate = set()\n",
    "        for i in range(len(boxes)):\n",
    "            if i in indexes:\n",
    "                x,y,w,h = boxes[i]\n",
    "                persons.append(boxes[i])\n",
    "                person_centres.append([x+w//2,y+h//2])\n",
    "        \n",
    "        v = 0\n",
    "        for (x,y,w,h) in persons:\n",
    "            color = (0,255,0)\n",
    "            cv2.rectangle(img,(x,y),(x+w,y+h),color,2)\n",
    "            cv2.circle(img,(x+w//2,y+h//2),2,(0,0,255),2)\n",
    "\n",
    "            my_email = 'your email'\n",
    "            my_pass = 'your pass'\n",
    "        \n",
    "    \n",
    "            if count == 0:\n",
    "                \n",
    "                ### Sending email alert that someone has entered office.\n",
    "                with smtplib.SMTP(\"smtp.gmail.com\") as connection:\n",
    "                    connection.starttls()\n",
    "                    connection.login(user=my_email, password=my_pass)\n",
    "                    connection.sendmail(from_addr=my_email,\n",
    "                            to_addrs=\"abc@example.com\",\n",
    "                            msg=\"Subject: Person alert!!!!!!\\n\\nHuman detected and\" \n",
    "                            \" look at console for mail confirmation!!!!!\")\n",
    "                    print(\"Mail has been sent successfully!\")  \n",
    "\n",
    "            count = count+1 \n",
    "\n",
    "\n",
    "        writer.write(img)\n",
    "        cv2.imshow(\"Image\", img)\n",
    "    \n",
    "    if cv2.waitKey(1) == 27:\n",
    "        break\n",
    "\n",
    "\n",
    "cap.release()\n",
    "cv2.destroyAllWindows()"
   ]
  },
  {
   "cell_type": "code",
   "execution_count": null,
   "metadata": {},
   "outputs": [],
   "source": []
  }
 ],
 "metadata": {
  "kernelspec": {
   "display_name": "Python 3.10.6 64-bit",
   "language": "python",
   "name": "python3"
  },
  "language_info": {
   "codemirror_mode": {
    "name": "ipython",
    "version": 3
   },
   "file_extension": ".py",
   "mimetype": "text/x-python",
   "name": "python",
   "nbconvert_exporter": "python",
   "pygments_lexer": "ipython3",
   "version": "3.10.6"
  },
  "vscode": {
   "interpreter": {
    "hash": "c27374c9edb5c442ddaba8b9dffd9a8fb6530e45b910276a86455660058cec29"
   }
  }
 },
 "nbformat": 4,
 "nbformat_minor": 5
}
